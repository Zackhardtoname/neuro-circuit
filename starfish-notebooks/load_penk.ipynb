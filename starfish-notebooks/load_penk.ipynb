{
 "cells": [
  {
   "cell_type": "code",
   "execution_count": 2,
   "metadata": {
    "scrolled": true
   },
   "outputs": [
    {
     "name": "stdout",
     "output_type": "stream",
     "text": [
      "Name: starfish\n",
      "Version: 0.1.4+15.gb7584a6\n",
      "Summary: Pipelines and pipeline components for the analysis of image-based transcriptomics data\n",
      "Home-page: https://spacetx-starfish.readthedocs.io/en/latest/\n",
      "Author: Deep Ganguli\n",
      "Author-email: dganguli@chanzuckerberg.com\n",
      "License: MIT\n",
      "Location: c:\\users\\sail\\anaconda3\\envs\\neuro-circuit\\lib\\site-packages\n",
      "Requires: click, pandas, ipywidgets, trackpy, semantic-version, scipy, scikit-learn, validators, xarray, jsonschema, sympy, showit, tqdm, regional, scikit-image, slicedimage, matplotlib, numpy\n",
      "Required-by: \n"
     ]
    }
   ],
   "source": [
    "!pip show starfish"
   ]
  },
  {
   "cell_type": "code",
   "execution_count": 5,
   "metadata": {
    "scrolled": true
   },
   "outputs": [
    {
     "ename": "FileNotFoundError",
     "evalue": "[Errno 2] No such file or directory: 'data\\\\Dropbox\\\\Dropbox\\\\Chen%20Lab%20Team%20Folder\\\\Projects\\\\Starotator\\\\StarFISH\\\\penk63\\\\penk63_formatted\\\\experiment.json'",
     "output_type": "error",
     "traceback": [
      "\u001b[1;31m---------------------------------------------------------------------------\u001b[0m",
      "\u001b[1;31mFileNotFoundError\u001b[0m                         Traceback (most recent call last)",
      "\u001b[1;32m<ipython-input-5-f017de0ef56e>\u001b[0m in \u001b[0;36m<module>\u001b[1;34m\u001b[0m\n\u001b[0;32m      5\u001b[0m \u001b[1;32massert\u001b[0m \u001b[0mwinpath\u001b[0m\u001b[1;33m.\u001b[0m\u001b[0mexists\u001b[0m\u001b[1;33m(\u001b[0m\u001b[1;33m)\u001b[0m\u001b[1;33m\u001b[0m\u001b[1;33m\u001b[0m\u001b[0m\n\u001b[0;32m      6\u001b[0m \u001b[0mpath\u001b[0m \u001b[1;33m=\u001b[0m \u001b[0mstr\u001b[0m\u001b[1;33m(\u001b[0m\u001b[0mwinpath\u001b[0m\u001b[1;33m.\u001b[0m\u001b[0mresolve\u001b[0m\u001b[1;33m(\u001b[0m\u001b[1;33m)\u001b[0m\u001b[1;33m)\u001b[0m\u001b[1;33m\u001b[0m\u001b[1;33m\u001b[0m\u001b[0m\n\u001b[1;32m----> 7\u001b[1;33m \u001b[0mexperiment\u001b[0m \u001b[1;33m=\u001b[0m \u001b[0mstarfish\u001b[0m\u001b[1;33m.\u001b[0m\u001b[0mExperiment\u001b[0m\u001b[1;33m.\u001b[0m\u001b[0mfrom_json\u001b[0m\u001b[1;33m(\u001b[0m\u001b[0mpath\u001b[0m\u001b[1;33m)\u001b[0m\u001b[1;33m\u001b[0m\u001b[1;33m\u001b[0m\u001b[0m\n\u001b[0m",
      "\u001b[1;32mc:\\users\\sail\\anaconda3\\envs\\neuro-circuit\\lib\\site-packages\\starfish\\core\\experiment\\experiment.py\u001b[0m in \u001b[0;36mfrom_json\u001b[1;34m(cls, json_url)\u001b[0m\n\u001b[0;32m    292\u001b[0m \u001b[1;33m\u001b[0m\u001b[0m\n\u001b[0;32m    293\u001b[0m         \u001b[0mbackend\u001b[0m\u001b[1;33m,\u001b[0m \u001b[0mname\u001b[0m\u001b[1;33m,\u001b[0m \u001b[0mbaseurl\u001b[0m \u001b[1;33m=\u001b[0m \u001b[0mresolve_path_or_url\u001b[0m\u001b[1;33m(\u001b[0m\u001b[0mjson_url\u001b[0m\u001b[1;33m,\u001b[0m \u001b[0mconfig\u001b[0m\u001b[1;33m.\u001b[0m\u001b[0mslicedimage\u001b[0m\u001b[1;33m)\u001b[0m\u001b[1;33m\u001b[0m\u001b[1;33m\u001b[0m\u001b[0m\n\u001b[1;32m--> 294\u001b[1;33m         \u001b[1;32mwith\u001b[0m \u001b[0mbackend\u001b[0m\u001b[1;33m.\u001b[0m\u001b[0mread_contextmanager\u001b[0m\u001b[1;33m(\u001b[0m\u001b[0mname\u001b[0m\u001b[1;33m)\u001b[0m \u001b[1;32mas\u001b[0m \u001b[0mfh\u001b[0m\u001b[1;33m:\u001b[0m\u001b[1;33m\u001b[0m\u001b[1;33m\u001b[0m\u001b[0m\n\u001b[0m\u001b[0;32m    295\u001b[0m             \u001b[0mexperiment_document\u001b[0m \u001b[1;33m=\u001b[0m \u001b[0mjson\u001b[0m\u001b[1;33m.\u001b[0m\u001b[0mload\u001b[0m\u001b[1;33m(\u001b[0m\u001b[0mfh\u001b[0m\u001b[1;33m)\u001b[0m\u001b[1;33m\u001b[0m\u001b[1;33m\u001b[0m\u001b[0m\n\u001b[0;32m    296\u001b[0m \u001b[1;33m\u001b[0m\u001b[0m\n",
      "\u001b[1;32mc:\\users\\sail\\anaconda3\\envs\\neuro-circuit\\lib\\site-packages\\slicedimage\\backends\\_disk.py\u001b[0m in \u001b[0;36m__enter__\u001b[1;34m(self)\u001b[0m\n",
      "\u001b[1;31mFileNotFoundError\u001b[0m: [Errno 2] No such file or directory: 'data\\\\Dropbox\\\\Dropbox\\\\Chen%20Lab%20Team%20Folder\\\\Projects\\\\Starotator\\\\StarFISH\\\\penk63\\\\penk63_formatted\\\\experiment.json'"
     ]
    }
   ],
   "source": [
    "from pathlib import Path\n",
    "import starfish\n",
    "\n",
    "winpath = Path(\"Z:\\\\Dropbox\\\\Dropbox\\Chen Lab Team Folder\\\\Projects\\\\Starotator\\\\StarFISH\\\\penk63\\\\penk63_formatted\\\\experiment.json\")\n",
    "assert winpath.exists()\n",
    "path = str(winpath.resolve())\n",
    "experiment = starfish.Experiment.from_json(path)"
   ]
  },
  {
   "cell_type": "code",
   "execution_count": 11,
   "metadata": {},
   "outputs": [
    {
     "name": "stdout",
     "output_type": "stream",
     "text": [
      "\\\\128.197.168.185\\data\\Dropbox\\Dropbox\\temporary_test\\penk63_formatted\\experiment.json\n"
     ]
    },
    {
     "ename": "FileNotFoundError",
     "evalue": "[Errno 2] No such file or directory: 'data\\\\Dropbox\\\\Dropbox\\\\temporary_test\\\\penk63_formatted\\\\experiment.json'",
     "output_type": "error",
     "traceback": [
      "\u001b[1;31m---------------------------------------------------------------------------\u001b[0m",
      "\u001b[1;31mFileNotFoundError\u001b[0m                         Traceback (most recent call last)",
      "\u001b[1;32m<ipython-input-11-b1ace9481b9c>\u001b[0m in \u001b[0;36m<module>\u001b[1;34m\u001b[0m\n\u001b[0;32m      6\u001b[0m \u001b[0mpath\u001b[0m \u001b[1;33m=\u001b[0m \u001b[0mstr\u001b[0m\u001b[1;33m(\u001b[0m\u001b[0mwinpath\u001b[0m\u001b[1;33m.\u001b[0m\u001b[0mresolve\u001b[0m\u001b[1;33m(\u001b[0m\u001b[1;33m)\u001b[0m\u001b[1;33m)\u001b[0m\u001b[1;33m\u001b[0m\u001b[1;33m\u001b[0m\u001b[0m\n\u001b[0;32m      7\u001b[0m \u001b[0mprint\u001b[0m\u001b[1;33m(\u001b[0m\u001b[0mpath\u001b[0m\u001b[1;33m)\u001b[0m\u001b[1;33m\u001b[0m\u001b[1;33m\u001b[0m\u001b[0m\n\u001b[1;32m----> 8\u001b[1;33m \u001b[0mexperiment\u001b[0m \u001b[1;33m=\u001b[0m \u001b[0mstarfish\u001b[0m\u001b[1;33m.\u001b[0m\u001b[0mExperiment\u001b[0m\u001b[1;33m.\u001b[0m\u001b[0mfrom_json\u001b[0m\u001b[1;33m(\u001b[0m\u001b[0mpath\u001b[0m\u001b[1;33m)\u001b[0m\u001b[1;33m\u001b[0m\u001b[1;33m\u001b[0m\u001b[0m\n\u001b[0m",
      "\u001b[1;32mc:\\users\\sail\\anaconda3\\envs\\neuro-circuit\\lib\\site-packages\\starfish\\core\\experiment\\experiment.py\u001b[0m in \u001b[0;36mfrom_json\u001b[1;34m(cls, json_url)\u001b[0m\n\u001b[0;32m    292\u001b[0m \u001b[1;33m\u001b[0m\u001b[0m\n\u001b[0;32m    293\u001b[0m         \u001b[0mbackend\u001b[0m\u001b[1;33m,\u001b[0m \u001b[0mname\u001b[0m\u001b[1;33m,\u001b[0m \u001b[0mbaseurl\u001b[0m \u001b[1;33m=\u001b[0m \u001b[0mresolve_path_or_url\u001b[0m\u001b[1;33m(\u001b[0m\u001b[0mjson_url\u001b[0m\u001b[1;33m,\u001b[0m \u001b[0mconfig\u001b[0m\u001b[1;33m.\u001b[0m\u001b[0mslicedimage\u001b[0m\u001b[1;33m)\u001b[0m\u001b[1;33m\u001b[0m\u001b[1;33m\u001b[0m\u001b[0m\n\u001b[1;32m--> 294\u001b[1;33m         \u001b[1;32mwith\u001b[0m \u001b[0mbackend\u001b[0m\u001b[1;33m.\u001b[0m\u001b[0mread_contextmanager\u001b[0m\u001b[1;33m(\u001b[0m\u001b[0mname\u001b[0m\u001b[1;33m)\u001b[0m \u001b[1;32mas\u001b[0m \u001b[0mfh\u001b[0m\u001b[1;33m:\u001b[0m\u001b[1;33m\u001b[0m\u001b[1;33m\u001b[0m\u001b[0m\n\u001b[0m\u001b[0;32m    295\u001b[0m             \u001b[0mexperiment_document\u001b[0m \u001b[1;33m=\u001b[0m \u001b[0mjson\u001b[0m\u001b[1;33m.\u001b[0m\u001b[0mload\u001b[0m\u001b[1;33m(\u001b[0m\u001b[0mfh\u001b[0m\u001b[1;33m)\u001b[0m\u001b[1;33m\u001b[0m\u001b[1;33m\u001b[0m\u001b[0m\n\u001b[0;32m    296\u001b[0m \u001b[1;33m\u001b[0m\u001b[0m\n",
      "\u001b[1;32mc:\\users\\sail\\anaconda3\\envs\\neuro-circuit\\lib\\site-packages\\slicedimage\\backends\\_disk.py\u001b[0m in \u001b[0;36m__enter__\u001b[1;34m(self)\u001b[0m\n",
      "\u001b[1;31mFileNotFoundError\u001b[0m: [Errno 2] No such file or directory: 'data\\\\Dropbox\\\\Dropbox\\\\temporary_test\\\\penk63_formatted\\\\experiment.json'"
     ]
    }
   ],
   "source": [
    "from pathlib import Path\n",
    "import starfish\n",
    "\n",
    "winpath = Path(\"Z:\\\\Dropbox\\\\Dropbox\\\\temporary_test\\\\penk63_formatted\\\\experiment.json\")\n",
    "assert winpath.exists()\n",
    "path = str(winpath.resolve())\n",
    "print(path)\n",
    "experiment = starfish.Experiment.from_json(path)"
   ]
  },
  {
   "cell_type": "code",
   "execution_count": 7,
   "metadata": {},
   "outputs": [
    {
     "name": "stdout",
     "output_type": "stream",
     "text": [
      "C:\\Users\\sail\\Documents\\neuro-circuit\\starfish-notebooks\\penk63\\penk63_formatted\\experiment.json\n"
     ]
    }
   ],
   "source": [
    "from pathlib import Path\n",
    "import starfish\n",
    "\n",
    "winpath = Path(\"C:\\\\Users\\\\sail\\\\Documents\\\\neuro-circuit\\\\starfish-notebooks\\\\penk63\\\\penk63_formatted\\\\experiment.json\")\n",
    "assert winpath.exists()\n",
    "path = str(winpath.resolve())\n",
    "print(path)\n",
    "experiment = starfish.Experiment.from_json(path)"
   ]
  },
  {
   "cell_type": "code",
   "execution_count": 8,
   "metadata": {},
   "outputs": [
    {
     "name": "stdout",
     "output_type": "stream",
     "text": [
      "fov_000\n"
     ]
    }
   ],
   "source": [
    "for key in experiment.keys():\n",
    "    print(key)"
   ]
  },
  {
   "cell_type": "code",
   "execution_count": null,
   "metadata": {},
   "outputs": [],
   "source": []
  }
 ],
 "metadata": {
  "kernelspec": {
   "display_name": "Python 3",
   "language": "python",
   "name": "python3"
  },
  "language_info": {
   "codemirror_mode": {
    "name": "ipython",
    "version": 3
   },
   "file_extension": ".py",
   "mimetype": "text/x-python",
   "name": "python",
   "nbconvert_exporter": "python",
   "pygments_lexer": "ipython3",
   "version": "3.7.3"
  }
 },
 "nbformat": 4,
 "nbformat_minor": 2
}
