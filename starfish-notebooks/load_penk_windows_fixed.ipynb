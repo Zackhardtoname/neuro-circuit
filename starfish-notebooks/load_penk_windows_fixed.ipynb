{
 "cells": [
  {
   "cell_type": "code",
   "execution_count": 1,
   "metadata": {
    "scrolled": false
   },
   "outputs": [
    {
     "name": "stdout",
     "output_type": "stream",
     "text": [
      "Windows-10-10.0.14393-SP0\n",
      "Python 3.7.3 (default, Apr 24 2019, 15:29:51) [MSC v.1915 64 bit (AMD64)]\n",
      "NumPy 1.16.4\n",
      "SciPy 1.3.0\n",
      "scikit-image 0.15.0\n",
      "pandas 0.24.2\n",
      "sklearn 0.21.2\n",
      "xarray 0.12.2\n",
      "sympy 1.4\n",
      "starfish 0.1.5\n"
     ]
    }
   ],
   "source": [
    "import platform; print(platform.platform())\n",
    "import sys; print(\"Python\", sys.version)\n",
    "import numpy; print(\"NumPy\", numpy.__version__)\n",
    "import scipy; print(\"SciPy\", scipy.__version__)\n",
    "import skimage; print(\"scikit-image\", skimage.__version__)\n",
    "import pandas; print(\"pandas\", pandas.__version__)\n",
    "import sklearn; print(\"sklearn\", sklearn.__version__)\n",
    "import xarray; print(\"xarray\", xarray.__version__)\n",
    "import sympy; print(\"sympy\", sympy.__version__)\n",
    "import starfish; print(\"starfish\", starfish.__version__)"
   ]
  },
  {
   "cell_type": "code",
   "execution_count": 2,
   "metadata": {},
   "outputs": [
    {
     "name": "stdout",
     "output_type": "stream",
     "text": [
      "Z:\\Dropbox\\Dropbox\\temporary_test\\penk63_formatted\\experiment.json\n"
     ]
    }
   ],
   "source": [
    "from pathlib import Path\n",
    "import starfish\n",
    "\n",
    "winpath = Path(\"Z:\\\\Dropbox\\\\Dropbox\\\\temporary_test\\\\penk63_formatted\\\\experiment.json\")\n",
    "print(winpath)\n",
    "experiment = starfish.Experiment.from_json(str(winpath))"
   ]
  },
  {
   "cell_type": "code",
   "execution_count": 3,
   "metadata": {},
   "outputs": [
    {
     "name": "stdout",
     "output_type": "stream",
     "text": [
      "fov_000\n"
     ]
    }
   ],
   "source": [
    "for key in experiment.keys():\n",
    "    print(key)"
   ]
  },
  {
   "cell_type": "code",
   "execution_count": 4,
   "metadata": {
    "scrolled": true
   },
   "outputs": [],
   "source": [
    "from pathlib import Path\n",
    "import starfish\n",
    "\n",
    "winpath = Path(\"Z:\\\\Dropbox\\\\Dropbox\\Chen Lab Team Folder\\\\Projects\\\\Starotator\\\\StarFISH\\\\penk63\\\\penk63_formatted\\\\experiment.json\")\n",
    "assert winpath.exists()\n",
    "path = str(winpath)\n",
    "experiment = starfish.Experiment.from_json(path)"
   ]
  },
  {
   "cell_type": "code",
   "execution_count": 5,
   "metadata": {},
   "outputs": [
    {
     "name": "stdout",
     "output_type": "stream",
     "text": [
      "fov_000\n"
     ]
    }
   ],
   "source": [
    "for key in experiment.keys():\n",
    "    print(key)"
   ]
  },
  {
   "cell_type": "code",
   "execution_count": null,
   "metadata": {},
   "outputs": [],
   "source": []
  }
 ],
 "metadata": {
  "kernelspec": {
   "display_name": "Python 3",
   "language": "python",
   "name": "python3"
  },
  "language_info": {
   "codemirror_mode": {
    "name": "ipython",
    "version": 3
   },
   "file_extension": ".py",
   "mimetype": "text/x-python",
   "name": "python",
   "nbconvert_exporter": "python",
   "pygments_lexer": "ipython3",
   "version": "3.7.3"
  }
 },
 "nbformat": 4,
 "nbformat_minor": 2
}
