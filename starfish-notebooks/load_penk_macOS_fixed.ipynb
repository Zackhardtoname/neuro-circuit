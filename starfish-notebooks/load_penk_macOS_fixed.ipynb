{
 "cells": [
  {
   "cell_type": "code",
   "execution_count": 1,
   "metadata": {
    "scrolled": false
   },
   "outputs": [
    {
     "name": "stdout",
     "output_type": "stream",
     "text": [
      "Darwin-18.2.0-x86_64-i386-64bit\n",
      "Python 3.6.3 (default, Dec 12 2017, 10:28:16) \n",
      "[GCC 4.2.1 Compatible Apple LLVM 9.0.0 (clang-900.0.38)]\n",
      "NumPy 1.16.3\n",
      "SciPy 1.2.1\n",
      "scikit-image 0.15.0\n",
      "pandas 0.24.2\n",
      "sklearn 0.21.2\n",
      "xarray 0.12.1\n",
      "sympy 1.4\n",
      "starfish 0.1.5\n"
     ]
    }
   ],
   "source": [
    "import platform; print(platform.platform())\n",
    "import sys; print(\"Python\", sys.version)\n",
    "import numpy; print(\"NumPy\", numpy.__version__)\n",
    "import scipy; print(\"SciPy\", scipy.__version__)\n",
    "import skimage; print(\"scikit-image\", skimage.__version__)\n",
    "import pandas; print(\"pandas\", pandas.__version__)\n",
    "import sklearn; print(\"sklearn\", sklearn.__version__)\n",
    "import xarray; print(\"xarray\", xarray.__version__)\n",
    "import sympy; print(\"sympy\", sympy.__version__)\n",
    "import starfish; print(\"starfish\", starfish.__version__)"
   ]
  },
  {
   "cell_type": "code",
   "execution_count": 2,
   "metadata": {},
   "outputs": [
    {
     "name": "stdout",
     "output_type": "stream",
     "text": [
      "/Users/danyfu/Dropbox (BOSTON UNIVERSITY)/Starotator/StarFISH/penk63/penk63_formatted/experiment.json\n"
     ]
    }
   ],
   "source": [
    "from pathlib import Path\n",
    "import starfish\n",
    "\n",
    "winpath = Path(\"/Users/danyfu/Dropbox (BOSTON UNIVERSITY)/Starotator/StarFISH/penk63/penk63_formatted/experiment.json\")\n",
    "assert winpath.exists()\n",
    "print(winpath)\n",
    "experiment = starfish.Experiment.from_json(str(winpath))"
   ]
  },
  {
   "cell_type": "code",
   "execution_count": 3,
   "metadata": {},
   "outputs": [
    {
     "name": "stdout",
     "output_type": "stream",
     "text": [
      "fov_000\n"
     ]
    }
   ],
   "source": [
    "for key in experiment.keys():\n",
    "    print(key)"
   ]
  },
  {
   "cell_type": "code",
   "execution_count": 5,
   "metadata": {},
   "outputs": [
    {
     "name": "stdout",
     "output_type": "stream",
     "text": [
      "/Users/danyfu/Downloads/penk63_formatted/experiment.json\n"
     ]
    }
   ],
   "source": [
    "from pathlib import Path\n",
    "import starfish\n",
    "\n",
    "winpath = Path(\"/Users/danyfu/Downloads/penk63_formatted/experiment.json\")\n",
    "assert winpath.exists()\n",
    "print(winpath)\n",
    "experiment = starfish.Experiment.from_json(str(winpath))"
   ]
  },
  {
   "cell_type": "code",
   "execution_count": 6,
   "metadata": {},
   "outputs": [
    {
     "name": "stdout",
     "output_type": "stream",
     "text": [
      "fov_000\n"
     ]
    }
   ],
   "source": [
    "for key in experiment.keys():\n",
    "    print(key)"
   ]
  },
  {
   "cell_type": "code",
   "execution_count": null,
   "metadata": {},
   "outputs": [],
   "source": []
  }
 ],
 "metadata": {
  "kernelspec": {
   "display_name": "Python 3",
   "language": "python",
   "name": "python3"
  },
  "language_info": {
   "codemirror_mode": {
    "name": "ipython",
    "version": 3
   },
   "file_extension": ".py",
   "mimetype": "text/x-python",
   "name": "python",
   "nbconvert_exporter": "python",
   "pygments_lexer": "ipython3",
   "version": "3.6.3"
  }
 },
 "nbformat": 4,
 "nbformat_minor": 2
}
