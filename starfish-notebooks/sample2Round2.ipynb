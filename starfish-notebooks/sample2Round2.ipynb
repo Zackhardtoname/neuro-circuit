{
 "cells": [
  {
   "cell_type": "code",
   "execution_count": 1,
   "metadata": {},
   "outputs": [
    {
     "name": "stdout",
     "output_type": "stream",
     "text": [
      "Windows-10-10.0.14393-SP0\n",
      "Python 3.6.9 |Anaconda, Inc.| (default, Jul 30 2019, 14:00:49) [MSC v.1915 64 bit (AMD64)]\n",
      "starfish 0.1.5+23.g766d325.dirty\n",
      "napari 0.1.5\n"
     ]
    }
   ],
   "source": [
    "import platform; print(platform.platform())\n",
    "import sys; print(\"Python\", sys.version)\n",
    "import starfish; print(\"starfish\", starfish.__version__)\n",
    "import napari; print(\"napari\", napari.__version__)"
   ]
  },
  {
   "cell_type": "code",
   "execution_count": 6,
   "metadata": {},
   "outputs": [
    {
     "name": "stdout",
     "output_type": "stream",
     "text": [
      "<WinDLL 'opengl32', handle 7ffde5a70000 at 0x1bd4de04a90>\n",
      "unknown\n"
     ]
    }
   ],
   "source": [
    "import vispy\n",
    "from vispy.gloo.gl.gl2 import _lib, _get_gl_version\n",
    "\n",
    "print(_lib)\n",
    "print(_get_gl_version(_lib))"
   ]
  },
  {
   "cell_type": "code",
   "execution_count": 2,
   "metadata": {},
   "outputs": [
    {
     "name": "stdout",
     "output_type": "stream",
     "text": [
      "fov_000\n"
     ]
    }
   ],
   "source": [
    "# make sure we can load the experiment\n",
    "import starfish\n",
    "\n",
    "experiment = starfish.Experiment.from_json(\"Z:/Projects/ARG/Animals/pr005/round2/sample2Round2_formatted/experiment.json\")\n",
    "for key in experiment.keys():\n",
    "    print(key)"
   ]
  },
  {
   "cell_type": "code",
   "execution_count": 3,
   "metadata": {},
   "outputs": [],
   "source": [
    "#primary_image = experiment['fov_000'].get_image(\"primary\")\n",
    "\n",
    "# we can't load the whole stack for some reason... for now we'll just load a fraction of the image\n",
    "primary_image = experiment['fov_000'].get_image(\"primary\", zplanes=range(0,178), chs=range(0,1), x=slice(0, 500), y=slice(0, 500))"
   ]
  },
  {
   "cell_type": "code",
   "execution_count": 4,
   "metadata": {
    "scrolled": true
   },
   "outputs": [
    {
     "name": "stderr",
     "output_type": "stream",
     "text": [
      "WARNING: Traceback (most recent call last):\n",
      "  File \"c:\\users\\sail\\.conda\\envs\\starfish-3.6\\lib\\runpy.py\", line 193, in _run_module_as_main\n",
      "    \"__main__\", mod_spec)\n",
      "  File \"c:\\users\\sail\\.conda\\envs\\starfish-3.6\\lib\\runpy.py\", line 85, in _run_code\n",
      "    exec(code, run_globals)\n",
      "  File \"c:\\users\\sail\\.conda\\envs\\starfish-3.6\\lib\\site-packages\\ipykernel_launcher.py\", line 16, in <module>\n",
      "    app.launch_new_instance()\n",
      "  File \"c:\\users\\sail\\.conda\\envs\\starfish-3.6\\lib\\site-packages\\traitlets\\config\\application.py\", line 658, in launch_instance\n",
      "    app.start()\n",
      "  File \"c:\\users\\sail\\.conda\\envs\\starfish-3.6\\lib\\site-packages\\ipykernel\\kernelapp.py\", line 505, in start\n",
      "    self.io_loop.start()\n",
      "  File \"c:\\users\\sail\\.conda\\envs\\starfish-3.6\\lib\\site-packages\\tornado\\platform\\asyncio.py\", line 148, in start\n",
      "    self.asyncio_loop.run_forever()\n",
      "  File \"c:\\users\\sail\\.conda\\envs\\starfish-3.6\\lib\\asyncio\\base_events.py\", line 438, in run_forever\n",
      "    self._run_once()\n",
      "  File \"c:\\users\\sail\\.conda\\envs\\starfish-3.6\\lib\\asyncio\\base_events.py\", line 1451, in _run_once\n",
      "    handle._run()\n",
      "  File \"c:\\users\\sail\\.conda\\envs\\starfish-3.6\\lib\\asyncio\\events.py\", line 145, in _run\n",
      "    self._callback(*self._args)\n",
      "  File \"c:\\users\\sail\\.conda\\envs\\starfish-3.6\\lib\\site-packages\\tornado\\ioloop.py\", line 690, in <lambda>\n",
      "    lambda f: self._run_callback(functools.partial(callback, future))\n",
      "  File \"c:\\users\\sail\\.conda\\envs\\starfish-3.6\\lib\\site-packages\\tornado\\ioloop.py\", line 743, in _run_callback\n",
      "    ret = callback()\n",
      "  File \"c:\\users\\sail\\.conda\\envs\\starfish-3.6\\lib\\site-packages\\tornado\\gen.py\", line 787, in inner\n",
      "    self.run()\n",
      "  File \"c:\\users\\sail\\.conda\\envs\\starfish-3.6\\lib\\site-packages\\tornado\\gen.py\", line 748, in run\n",
      "    yielded = self.gen.send(value)\n",
      "  File \"c:\\users\\sail\\.conda\\envs\\starfish-3.6\\lib\\site-packages\\ipykernel\\kernelbase.py\", line 365, in process_one\n",
      "    yield gen.maybe_future(dispatch(*args))\n",
      "  File \"c:\\users\\sail\\.conda\\envs\\starfish-3.6\\lib\\site-packages\\tornado\\gen.py\", line 209, in wrapper\n",
      "    yielded = next(result)\n",
      "  File \"c:\\users\\sail\\.conda\\envs\\starfish-3.6\\lib\\site-packages\\ipykernel\\kernelbase.py\", line 272, in dispatch_shell\n",
      "    yield gen.maybe_future(handler(stream, idents, msg))\n",
      "  File \"c:\\users\\sail\\.conda\\envs\\starfish-3.6\\lib\\site-packages\\tornado\\gen.py\", line 209, in wrapper\n",
      "    yielded = next(result)\n",
      "  File \"c:\\users\\sail\\.conda\\envs\\starfish-3.6\\lib\\site-packages\\ipykernel\\kernelbase.py\", line 542, in execute_request\n",
      "    user_expressions, allow_stdin,\n",
      "  File \"c:\\users\\sail\\.conda\\envs\\starfish-3.6\\lib\\site-packages\\tornado\\gen.py\", line 209, in wrapper\n",
      "    yielded = next(result)\n",
      "  File \"c:\\users\\sail\\.conda\\envs\\starfish-3.6\\lib\\site-packages\\ipykernel\\ipkernel.py\", line 294, in do_execute\n",
      "    res = shell.run_cell(code, store_history=store_history, silent=silent)\n",
      "  File \"c:\\users\\sail\\.conda\\envs\\starfish-3.6\\lib\\site-packages\\ipykernel\\zmqshell.py\", line 536, in run_cell\n",
      "    return super(ZMQInteractiveShell, self).run_cell(*args, **kwargs)\n",
      "  File \"c:\\users\\sail\\.conda\\envs\\starfish-3.6\\lib\\site-packages\\IPython\\core\\interactiveshell.py\", line 2855, in run_cell\n",
      "    raw_cell, store_history, silent, shell_futures)\n",
      "  File \"c:\\users\\sail\\.conda\\envs\\starfish-3.6\\lib\\site-packages\\IPython\\core\\interactiveshell.py\", line 2881, in _run_cell\n",
      "    return runner(coro)\n",
      "  File \"c:\\users\\sail\\.conda\\envs\\starfish-3.6\\lib\\site-packages\\IPython\\core\\async_helpers.py\", line 68, in _pseudo_sync_runner\n",
      "    coro.send(None)\n",
      "  File \"c:\\users\\sail\\.conda\\envs\\starfish-3.6\\lib\\site-packages\\IPython\\core\\interactiveshell.py\", line 3058, in run_cell_async\n",
      "    interactivity=interactivity, compiler=compiler, result=result)\n",
      "  File \"c:\\users\\sail\\.conda\\envs\\starfish-3.6\\lib\\site-packages\\IPython\\core\\interactiveshell.py\", line 3249, in run_ast_nodes\n",
      "    if (await self.run_code(code, result,  async_=asy)):\n",
      "  File \"c:\\users\\sail\\.conda\\envs\\starfish-3.6\\lib\\site-packages\\IPython\\core\\interactiveshell.py\", line 3326, in run_code\n",
      "    exec(code_obj, self.user_global_ns, self.user_ns)\n",
      "  File \"<ipython-input-4-b9d2b4308cb7>\", line 3, in <module>\n",
      "    viewer = starfish.display(primary_image)\n",
      "  File \"c:\\users\\sail\\.conda\\envs\\starfish-3.6\\lib\\site-packages\\starfish\\core\\_display.py\", line 228, in display\n",
      "    viewer = Viewer()\n",
      "  File \"c:\\users\\sail\\.conda\\envs\\starfish-3.6\\lib\\site-packages\\napari\\viewer.py\", line 24, in __init__\n",
      "    self.window = Window(qt_viewer)\n",
      "  File \"c:\\users\\sail\\.conda\\envs\\starfish-3.6\\lib\\site-packages\\napari\\_qt\\qt_main_window.py\", line 76, in __init__\n",
      "    self.show()\n",
      "  File \"c:\\users\\sail\\.conda\\envs\\starfish-3.6\\lib\\site-packages\\napari\\_qt\\qt_main_window.py\", line 148, in show\n",
      "    self._qt_window.show()\n",
      "  File \"c:\\users\\sail\\.conda\\envs\\starfish-3.6\\lib\\site-packages\\vispy\\app\\backends\\_qt.py\", line 501, in event\n",
      "    out = super(QtBaseCanvasBackend, self).event(ev)\n",
      "  File \"c:\\users\\sail\\.conda\\envs\\starfish-3.6\\lib\\site-packages\\vispy\\app\\backends\\_qt.py\", line 501, in event\n",
      "    out = super(QtBaseCanvasBackend, self).event(ev)\n",
      "  File \"c:\\users\\sail\\.conda\\envs\\starfish-3.6\\lib\\site-packages\\vispy\\app\\backends\\_qt.py\", line 818, in paintGL\n",
      "    self._vispy_canvas.events.draw(region=None)\n",
      "  File \"c:\\users\\sail\\.conda\\envs\\starfish-3.6\\lib\\site-packages\\vispy\\util\\event.py\", line 455, in __call__\n",
      "    self._invoke_callback(cb, event)\n",
      "  File \"c:\\users\\sail\\.conda\\envs\\starfish-3.6\\lib\\site-packages\\vispy\\util\\event.py\", line 475, in _invoke_callback\n",
      "    self, cb_event=(cb, event))\n",
      "  << caught exception here: >>\n",
      "  File \"c:\\users\\sail\\.conda\\envs\\starfish-3.6\\lib\\site-packages\\vispy\\util\\event.py\", line 471, in _invoke_callback\n",
      "    cb(event)\n",
      "  File \"c:\\users\\sail\\.conda\\envs\\starfish-3.6\\lib\\site-packages\\vispy\\gloo\\context.py\", line 175, in flush_commands\n",
      "    self.shared.parser.parse([('CURRENT', 0, fbo)])\n",
      "  File \"c:\\users\\sail\\.conda\\envs\\starfish-3.6\\lib\\site-packages\\vispy\\gloo\\glir.py\", line 819, in parse\n",
      "    self._parse(command)\n",
      "  File \"c:\\users\\sail\\.conda\\envs\\starfish-3.6\\lib\\site-packages\\vispy\\gloo\\glir.py\", line 743, in _parse\n",
      "    self._gl_initialize()\n",
      "  File \"c:\\users\\sail\\.conda\\envs\\starfish-3.6\\lib\\site-packages\\vispy\\gloo\\glir.py\", line 851, in _gl_initialize\n",
      "    if this_version < '2.1':\n",
      "  File \"c:\\users\\sail\\.conda\\envs\\starfish-3.6\\lib\\distutils\\version.py\", line 52, in __lt__\n",
      "    c = self._cmp(other)\n",
      "  File \"c:\\users\\sail\\.conda\\envs\\starfish-3.6\\lib\\distutils\\version.py\", line 335, in _cmp\n",
      "    if self.version == other.version:\n",
      "AttributeError: 'LooseVersion' object has no attribute 'version'\n",
      "ERROR: Invoking <bound method GLContext.flush_commands of <GLContext at 0x15073e69ac8>> for DrawEvent\n",
      "100%|████████████████████████████████████████████████████████████████████████████████████████████████████████████████████████████████████████████████████| 178/178 [01:45<00:00,  1.68it/s]\n"
     ]
    },
    {
     "data": {
      "text/plain": [
       "<napari.viewer.Viewer at 0x1506782b160>"
      ]
     },
     "execution_count": 4,
     "metadata": {},
     "output_type": "execute_result"
    }
   ],
   "source": [
    "ipython = get_ipython()\n",
    "ipython.magic(\"gui qt5\")\n",
    "viewer = starfish.display(primary_image)\n",
    "viewer"
   ]
  }
 ],
 "metadata": {
  "kernelspec": {
   "display_name": "Python 3",
   "language": "python",
   "name": "python3"
  },
  "language_info": {
   "codemirror_mode": {
    "name": "ipython",
    "version": 3
   },
   "file_extension": ".py",
   "mimetype": "text/x-python",
   "name": "python",
   "nbconvert_exporter": "python",
   "pygments_lexer": "ipython3",
   "version": "3.6.9"
  }
 },
 "nbformat": 4,
 "nbformat_minor": 2
}
